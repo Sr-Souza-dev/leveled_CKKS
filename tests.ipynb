{
 "cells": [
  {
   "cell_type": "markdown",
   "metadata": {},
   "source": [
    "## Imports"
   ]
  },
  {
   "cell_type": "code",
   "execution_count": 1,
   "metadata": {},
   "outputs": [],
   "source": [
    "from src.toyencoder import CKKSToyEncoder\n",
    "from src.encoder import CKKSEncoder\n",
    "from src.scheme import CkksScheme\n",
    "from numpy.polynomial import Polynomial\n",
    "import numpy as np\n",
    "from sympy import nextprime\n",
    "from openfhe import *"
   ]
  },
  {
   "cell_type": "markdown",
   "metadata": {},
   "source": [
    "## Try the toy encoder homomorphism"
   ]
  },
  {
   "cell_type": "code",
   "execution_count": 2,
   "metadata": {},
   "outputs": [
    {
     "name": "stdout",
     "output_type": "stream",
     "text": [
      "Poly1:  (2.500000000000002-1.0000000000000007j) +\n",
      "(0.7071067811865489+3.1819805153394625j)·x -\n",
      "(1.499999999999999-0.4999999999999988j)·x² +\n",
      "(2.1213203435596393-3.181980515339467j)·x³\n",
      "Poly2:  (5.249999999999997-2.2500000000000013j) -\n",
      "(3.181980515339465+2.8284271247461894j)·x +\n",
      "(1.2499999999999976-1.7500000000000004j)·x² -\n",
      "(2.8284271247461907+0.35355339059326985j)·x³\n",
      "Poly_Multi:  (10.875000000000004-10.875000000000009j) +\n",
      "(0.08838834764831383+11.225320151336422j)·x +\n",
      "(1.374999999999992-11.750000000000014j)·x² +\n",
      "(9.192388155425071-14.142135623730955j)·x³ -\n",
      "(17.625000000000014+1.8749999999999751j)·x⁴ +\n",
      "(1.5026019100213932-8.573669721886883j)·x⁵ -\n",
      "(7.1249999999999805-8.25000000000002j)·x⁶\n",
      "Poly_Sum:  (7.75-3.2500000000000018j) - (2.4748737341529163-0.35355339059327306j)·x -\n",
      "(0.25000000000000133+1.2500000000000018j)·x² -\n",
      "(0.7071067811865515+3.535533905932737j)·x³\n",
      "Real_Multi:  [ 5. +1.j 60.-30.j 12.-36.j 37.+29.j]\n",
      "Real_Sum:  [ 3.+2.j  8.-4.j 10.-8.j 10.-3.j]\n"
     ]
    }
   ],
   "source": [
    "ckks_encoder = CKKSToyEncoder(8)       # So the maximum size vector is 4 (8/2)\n",
    "poly1 = ckks_encoder.sigma_inverse([2+3j, 3-9j, 4-2j, 1+4j])\n",
    "poly2 = ckks_encoder.sigma_inverse([1-1j, 5+5j, 6-6j, 9-7j])\n",
    "\n",
    "print(\"Poly1: \", poly1)\n",
    "print(\"Poly2: \", poly2)\n",
    "\n",
    "poly_multi = poly1 * poly2\n",
    "poly_sum = poly1 + poly2\n",
    "\n",
    "print(\"Poly_Multi: \", poly_multi)\n",
    "print(\"Poly_Sum: \", poly_sum)\n",
    "\n",
    "real_multi = ckks_encoder.sigma(poly_multi)\n",
    "real_sum = ckks_encoder.sigma(poly_sum)\n",
    "\n",
    "print(\"Real_Multi: \", real_multi)\n",
    "print(\"Real_Sum: \", real_sum)"
   ]
  },
  {
   "cell_type": "markdown",
   "metadata": {},
   "source": [
    "## Try the CKKS encoder"
   ]
  },
  {
   "cell_type": "code",
   "execution_count": 8,
   "metadata": {},
   "outputs": [
    {
     "name": "stdout",
     "output_type": "stream",
     "text": [
      "Iniciou\n",
      "Gerou encoder\n",
      "Poly1:  2.14748365e+09 + (3.22122547e+09)·x + (2.14748365e+09)·x² +\n",
      "(3.22122547e+09)·x³\n",
      "Poly2:  1.07374182e+09 + (5.36870912e+09)·x + (1.07374182e+09)·x² +\n",
      "(5.36870912e+09)·x³\n",
      "Poly_Multi:  2.30584301e+18 + (1.49879796e+19)·x + (2.19055086e+19)·x² +\n",
      "(2.99759591e+19)·x³ + (3.68934881e+19)·x⁴ + (1.49879796e+19)·x⁵ +\n",
      "(1.72938226e+19)·x⁶\n",
      "Poly_Sum:  3.22122547e+09 + (8.58993459e+09)·x + (3.22122547e+09)·x² +\n",
      "(8.58993459e+09)·x³\n",
      "Real_Multi:  [ 2. 13.]\n",
      "Real_Sum:  [3. 8.]\n"
     ]
    }
   ],
   "source": [
    "print(\"Iniciou\")\n",
    "ckks_encoder = CKKSEncoder(4, scale=2**30)       # So the maximum size vector is 4 (8/2)\n",
    "print(\"Gerou encoder\")\n",
    "c_vec1 = np.array([2, 3])\n",
    "c_vec2 = np.array([1, 5])\n",
    "\n",
    "poly1 = ckks_encoder.encode(c_vec1)\n",
    "poly2 = ckks_encoder.encode(c_vec2)\n",
    "\n",
    "print(\"Poly1: \", poly1)\n",
    "print(\"Poly2: \", poly2)\n",
    "\n",
    "poly_multi = poly1 * poly2 \n",
    "poly_sum = poly1 + poly2\n",
    "\n",
    "\n",
    "print(\"Poly_Multi: \", poly_multi)\n",
    "print(\"Poly_Sum: \", poly_sum)\n",
    "\n",
    "real_multi = ckks_encoder.decode(poly_multi/ckks_encoder.scale)\n",
    "real_sum = ckks_encoder.decode(poly_sum)\n",
    "\n",
    "print(\"Real_Multi: \", real_multi)\n",
    "print(\"Real_Sum: \", real_sum)"
   ]
  },
  {
   "cell_type": "markdown",
   "metadata": {},
   "source": [
    "### Encryption and Decryption"
   ]
  },
  {
   "cell_type": "code",
   "execution_count": 10,
   "metadata": {},
   "outputs": [
    {
     "name": "stdout",
     "output_type": "stream",
     "text": [
      "Vec1: [1 8]\n",
      "Vec2: [2 2]\n",
      "Soma: [ 3 10]\n",
      "->  3.0000000461693532\n",
      "->  10.000000052580534\n",
      "Polynomial\n",
      "->  3145728.04841208 + 10485760.05513469·x + 3145727.92157283·x² +\n",
      "10485759.91670715·x³ - 0.2799737·x⁴ - 0.75044042·x⁵ - 0.6832453·x⁶ +\n",
      "0.09588087·x⁷ + 0.79120795·x⁸ - 0.02318267·x⁹\n",
      "->  0.15839979 + 0.5528039·x + 0.72540276·x² + 0.70939845·x³ - 0.09588087·x⁴ -\n",
      "0.79120795·x⁵ + 0.02318267·x⁶\n",
      "\n",
      "Multi:  [ 2 16]\n",
      "->  2.0\n",
      "->  18.0\n",
      "Polynomial\n",
      "->  2097152.0 + 18874368.0·x + 20971520.0·x² + 37748735.0·x³ + 35651584.0·x⁴ +\n",
      "18874362.0·x⁵ + 16777207.0·x⁶ - 10.0·x⁷ - 8.0·x⁸ - 4.0·x⁹ + 1.0·x¹⁰ +\n",
      "2.0·x¹¹ + -0.0·x¹² + -0.0·x¹³ + -0.0·x¹⁴ + -0.0·x¹⁵ + 0.0·x¹⁶ + 0.0·x¹⁷ +\n",
      "-0.0·x¹⁸\n",
      "->  0.0 + 2.0·x + 6.0·x² + 10.0·x³ + 12.0·x⁴ + 7.0·x⁵ + 5.0·x⁶ - 1.0·x⁷ -\n",
      "2.0·x⁸ + 0.0·x⁹ + 0.0·x¹⁰ + 0.0·x¹¹ + 0.0·x¹² + -0.0·x¹³ + -0.0·x¹⁴ +\n",
      "0.0·x¹⁵\n"
     ]
    }
   ],
   "source": [
    "def print_vector(vector):\n",
    "    for i in vector:\n",
    "        print(\"-> \", i)\n",
    "\n",
    "# Parameters\n",
    "N = 4                       # Degree of the cyclotomic ring (must be power of 2)\n",
    "p = 2**20                   # Primo usado no contexto de reliniarização (exemplo)\n",
    "scale = 2**20               # Scale factor for encoding (decimal precision of 10 bits)\n",
    "noise_scale = 0.1           # Scale of the noise added during encryption\n",
    "qs = [2**20, 2**40, 2**60]  # Different moduli for the ciphertexts\n",
    "\n",
    "\n",
    "# Instantiate the encoder\n",
    "encoder = CKKSEncoder(N=N, scale=scale)\n",
    "\n",
    "# Generate a random secret key\n",
    "secret_key_coeffs = np.random.randint(0, 2, encoder.N)\n",
    "secret_key = Polynomial(secret_key_coeffs)\n",
    "\n",
    "# Create CKKS scheme instance\n",
    "scheme = CkksScheme(encoder, secret_key, noise_scale, p=p, qs=qs)\n",
    "z1 = np.array([1, 8])\n",
    "z2 = np.array([2, 2])\n",
    "\n",
    "# Encryption\n",
    "c1 = scheme.encrypt(z1)\n",
    "c2 = scheme.encrypt(z2)\n",
    "\n",
    "c_add = scheme.add(c1, c2)\n",
    "c_multi = scheme.mult(c1, c2)\n",
    "\n",
    "# Decryption\n",
    "z_add = scheme.decrypt(c_add)\n",
    "z_multi = scheme.decrypt(c_multi)\n",
    "\n",
    "print(\"Vec1:\", z1)\n",
    "print(\"Vec2:\",z2)\n",
    "\n",
    "print(\"Soma:\", z1+z2)\n",
    "print_vector(z_add)\n",
    "print(\"Polynomial\")\n",
    "print_vector(c_add)\n",
    "\n",
    "print(\"\\nMulti: \", z1*z2)\n",
    "print_vector(z_multi)\n",
    "print(\"Polynomial\")\n",
    "print_vector(c_multi)"
   ]
  },
  {
   "cell_type": "markdown",
   "metadata": {},
   "source": []
  }
 ],
 "metadata": {
  "kernelspec": {
   "display_name": "Python 3",
   "language": "python",
   "name": "python3"
  },
  "language_info": {
   "codemirror_mode": {
    "name": "ipython",
    "version": 3
   },
   "file_extension": ".py",
   "mimetype": "text/x-python",
   "name": "python",
   "nbconvert_exporter": "python",
   "pygments_lexer": "ipython3",
   "version": "3.12.3"
  }
 },
 "nbformat": 4,
 "nbformat_minor": 2
}
