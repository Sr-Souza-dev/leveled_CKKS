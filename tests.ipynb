{
 "cells": [
  {
   "cell_type": "markdown",
   "metadata": {},
   "source": [
    "## Imports"
   ]
  },
  {
   "cell_type": "code",
   "execution_count": 6,
   "metadata": {},
   "outputs": [],
   "source": [
    "from toyencoder import CKKSToyEncoder\n",
    "from encoder import CKKSEncoder\n",
    "from scheme import CkksScheme\n",
    "from numpy.polynomial import Polynomial\n",
    "import numpy as np\n",
    "from sympy import nextprime"
   ]
  },
  {
   "cell_type": "markdown",
   "metadata": {},
   "source": [
    "## Try the toy encoder homomorphism"
   ]
  },
  {
   "cell_type": "code",
   "execution_count": 7,
   "metadata": {},
   "outputs": [
    {
     "name": "stdout",
     "output_type": "stream",
     "text": [
      "Poly1:  (2.500000000000002-1.0000000000000007j) +\n",
      "(0.7071067811865489+3.1819805153394625j)·x -\n",
      "(1.499999999999999-0.4999999999999988j)·x² +\n",
      "(2.1213203435596393-3.181980515339467j)·x³\n",
      "Poly2:  (5.249999999999997-2.2500000000000013j) -\n",
      "(3.181980515339465+2.8284271247461894j)·x +\n",
      "(1.2499999999999976-1.7500000000000004j)·x² -\n",
      "(2.8284271247461907+0.35355339059326985j)·x³\n",
      "Poly_Multi:  (10.875000000000004-10.875000000000009j) +\n",
      "(0.08838834764831383+11.225320151336422j)·x +\n",
      "(1.374999999999992-11.750000000000014j)·x² +\n",
      "(9.192388155425071-14.142135623730955j)·x³ -\n",
      "(17.625000000000014+1.8749999999999751j)·x⁴ +\n",
      "(1.5026019100213932-8.573669721886883j)·x⁵ -\n",
      "(7.1249999999999805-8.25000000000002j)·x⁶\n",
      "Poly_Sum:  (7.75-3.2500000000000018j) - (2.4748737341529163-0.35355339059327306j)·x -\n",
      "(0.25000000000000133+1.2500000000000018j)·x² -\n",
      "(0.7071067811865515+3.535533905932737j)·x³\n",
      "Real_Multi:  [ 5. +1.j 60.-30.j 12.-36.j 37.+29.j]\n",
      "Real_Sum:  [ 3.+2.j  8.-4.j 10.-8.j 10.-3.j]\n"
     ]
    }
   ],
   "source": [
    "ckks_encoder = CKKSToyEncoder(8)       # So the maximum size vector is 4 (8/2)\n",
    "poly1 = ckks_encoder.sigma_inverse([2+3j, 3-9j, 4-2j, 1+4j])\n",
    "poly2 = ckks_encoder.sigma_inverse([1-1j, 5+5j, 6-6j, 9-7j])\n",
    "\n",
    "print(\"Poly1: \", poly1)\n",
    "print(\"Poly2: \", poly2)\n",
    "\n",
    "poly_multi = poly1 * poly2\n",
    "poly_sum = poly1 + poly2\n",
    "\n",
    "print(\"Poly_Multi: \", poly_multi)\n",
    "print(\"Poly_Sum: \", poly_sum)\n",
    "\n",
    "real_multi = ckks_encoder.sigma(poly_multi)\n",
    "real_sum = ckks_encoder.sigma(poly_sum)\n",
    "\n",
    "print(\"Real_Multi: \", real_multi)\n",
    "print(\"Real_Sum: \", real_sum)"
   ]
  },
  {
   "cell_type": "code",
   "execution_count": null,
   "metadata": {},
   "outputs": [],
   "source": []
  },
  {
   "cell_type": "markdown",
   "metadata": {},
   "source": [
    "## Try the CKKS encoder"
   ]
  },
  {
   "cell_type": "code",
   "execution_count": 8,
   "metadata": {},
   "outputs": [
    {
     "name": "stdout",
     "output_type": "stream",
     "text": [
      "Poly1:  2.68435456e+09 - (3.79625062e+08)·x - 1.0·x² + (3.79625062e+08)·x³\n",
      "Poly2:  3.22122547e+09 - (1.51850025e+09)·x + 1.0·x² + (1.51850025e+09)·x³\n",
      "Poly_Multi:  9.79983279e+18 - (5.29905099e+18)·x - (1.57245824e+08)·x² +\n",
      "(5.29905099e+18)·x³\n",
      "Poly_Sum:  5.90558003e+09 - (1.89812531e+09)·x + 0.0·x² + (1.89812531e+09)·x³\n",
      "Real_Multi:  [ 2.+3.85764753e-10j 15.+1.12990506e-10j]\n",
      "Real_Sum:  [3.+6.58544108e-10j 8.+6.58545440e-10j]\n"
     ]
    }
   ],
   "source": [
    "ckks_encoder = CKKSEncoder(8, scale=2**30)       # So the maximum size vector is 4 (8/2)\n",
    "c_vec1 = [2, 3]\n",
    "c_vec2 = [1, 5]\n",
    "\n",
    "poly1 = ckks_encoder.encode(c_vec1)\n",
    "poly2 = ckks_encoder.encode(c_vec2)\n",
    "\n",
    "print(\"Poly1: \", poly1)\n",
    "print(\"Poly2: \", poly2)\n",
    "\n",
    "poly_multi = poly1 * poly2 % ckks_encoder.module\n",
    "poly_sum = poly1 + poly2\n",
    "\n",
    "print(\"Poly_Multi: \", poly_multi)\n",
    "print(\"Poly_Sum: \", poly_sum)\n",
    "\n",
    "real_multi = ckks_encoder.decode(poly_multi/ckks_encoder.scale)\n",
    "real_sum = ckks_encoder.decode(poly_sum)\n",
    "\n",
    "print(\"Real_Multi: \", real_multi)\n",
    "print(\"Real_Sum: \", real_sum)"
   ]
  },
  {
   "cell_type": "markdown",
   "metadata": {},
   "source": [
    "### Encryption and Decryption"
   ]
  },
  {
   "cell_type": "code",
   "execution_count": 11,
   "metadata": {},
   "outputs": [
    {
     "name": "stdout",
     "output_type": "stream",
     "text": [
      "Soma: [ 3 10]\n",
      "->  (3.000001920114222+2.0101482329781817e-06j)\n",
      "->  (9.999999481787324-2.1253755511096983e-07j)\n",
      "Polynomial\n",
      "->  6815745.29885766 - 2595092.14054099·x + 0.53675314·x² +\n",
      "2595092.6471779·x³ - 0.01096185·x⁴ - 0.58249937·x⁵ - 1.02910372·x⁶ -\n",
      "0.2471054·x⁷ - 0.24708394·x⁸ + 0.02596854·x⁹\n",
      "->  -0.79584582 - 0.27860924·x - 0.67603129·x² + 0.73359261·x³ +\n",
      "(2.14543281e-05)·x⁴ + 0.27305249·x⁵ - 0.02596854·x⁶\n",
      "\n",
      "Multi:  [ 2 16]\n",
      "->  (1.9999989132444904+1.6280238916976941e-06j)\n",
      "->  (15.99999917940688-2.793247366739138e-07j)\n",
      "Polynomial\n",
      "->  9437191.0 - 5190188.0·x - 1.0·x² + 5190187.0·x³ + 3.0·x⁴ - 1.0·x⁵ -\n",
      "6.0·x⁶ + -0.0·x⁷ - 2.0·x⁸ - 1.0·x⁹ + 1.0·x¹⁰ + 0.0·x¹¹ + 0.0·x¹² +\n",
      "0.0·x¹³ + -0.0·x¹⁴ + -0.0·x¹⁵ + -0.0·x¹⁶ + -0.0·x¹⁷ + -0.0·x¹⁸\n",
      "->  -3.0 + 3.0·x - 3.0·x² + 2.0·x³ - 1.0·x⁴ + 1.0·x⁵ + 1.0·x⁶ - 1.0·x⁷ +\n",
      "0.0·x⁸ + -0.0·x⁹ + -0.0·x¹⁰ + 0.0·x¹¹ + 0.0·x¹² + 0.0·x¹³ + 0.0·x¹⁴ +\n",
      "0.0·x¹⁵\n"
     ]
    }
   ],
   "source": [
    "def print_vector(vector):\n",
    "    for i in vector:\n",
    "        print(\"-> \", i)\n",
    "\n",
    "# Parameters\n",
    "M = 8                       # Degree of the cyclotomic ring (must be power of 2)\n",
    "p = 2**20                   # Primo usado no contexto de reliniarização (exemplo)\n",
    "scale = 2**20               # Scale factor for encoding (decimal precision of 10 bits)\n",
    "noise_scale = 0.1           # Scale of the noise added during encryption\n",
    "qs = [2**20, 2**40, 2**60]  # Different moduli for the ciphertexts\n",
    "\n",
    "\n",
    "# Instantiate the encoder\n",
    "encoder = CKKSEncoder(M=M, scale=scale)\n",
    "\n",
    "# Generate a random secret key\n",
    "secret_key_coeffs = np.random.randint(0, 2, encoder.N)\n",
    "secret_key = Polynomial(secret_key_coeffs)\n",
    "\n",
    "# Create CKKS scheme instance\n",
    "scheme = CkksScheme(encoder, secret_key, noise_scale, p=p, qs=qs)\n",
    "z1 = np.array([1, 8])\n",
    "z2 = np.array([2, 2])\n",
    "\n",
    "# Encryption\n",
    "c1 = scheme.encrypt(z1)\n",
    "c2 = scheme.encrypt(z2)\n",
    "\n",
    "c_add = scheme.add(c1, c2)\n",
    "c_multi = scheme.mult(c1, c2)\n",
    "\n",
    "# Decryption\n",
    "z_add = scheme.decrypt(c_add)\n",
    "z_multi = scheme.decrypt(c_multi)\n",
    "\n",
    "print(\"Soma:\", z1+z2)\n",
    "print_vector(z_add)\n",
    "print(\"Polynomial\")\n",
    "print_vector(c_add)\n",
    "\n",
    "\n",
    "\n",
    "print(\"\\nMulti: \", z1*z2)\n",
    "print_vector(z_multi)\n",
    "print(\"Polynomial\")\n",
    "print_vector(c_multi)"
   ]
  },
  {
   "cell_type": "markdown",
   "metadata": {},
   "source": []
  }
 ],
 "metadata": {
  "kernelspec": {
   "display_name": "Python 3",
   "language": "python",
   "name": "python3"
  },
  "language_info": {
   "codemirror_mode": {
    "name": "ipython",
    "version": 3
   },
   "file_extension": ".py",
   "mimetype": "text/x-python",
   "name": "python",
   "nbconvert_exporter": "python",
   "pygments_lexer": "ipython3",
   "version": "3.12.3"
  }
 },
 "nbformat": 4,
 "nbformat_minor": 2
}
