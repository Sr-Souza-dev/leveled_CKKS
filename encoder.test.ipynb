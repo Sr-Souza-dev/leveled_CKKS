{
 "cells": [
  {
   "cell_type": "markdown",
   "metadata": {},
   "source": [
    "### Imports"
   ]
  },
  {
   "cell_type": "code",
   "execution_count": 217,
   "metadata": {},
   "outputs": [],
   "source": [
    "from openfhe import *\n",
    "from src.encoder import CKKSEncoder"
   ]
  },
  {
   "cell_type": "markdown",
   "metadata": {},
   "source": [
    "### Define Vars"
   ]
  },
  {
   "cell_type": "code",
   "execution_count": null,
   "metadata": {},
   "outputs": [],
   "source": [
    "mult_depth = 0\n",
    "scale_mod_size = 40\n",
    "N = 4\n",
    "batch_size = N//2\n",
    "\n",
    "x1 = [0.25, 0.5]\n",
    "x2 = [5.0, 4.0]"
   ]
  },
  {
   "cell_type": "markdown",
   "metadata": {},
   "source": [
    "#### Set Developed Encoder"
   ]
  },
  {
   "cell_type": "code",
   "execution_count": 219,
   "metadata": {},
   "outputs": [],
   "source": [
    "ckks_encoder = CKKSEncoder(N, scale=2**scale_mod_size)  "
   ]
  },
  {
   "cell_type": "markdown",
   "metadata": {},
   "source": [
    "#### Set Real Encoder"
   ]
  },
  {
   "cell_type": "code",
   "execution_count": 220,
   "metadata": {},
   "outputs": [
    {
     "name": "stdout",
     "output_type": "stream",
     "text": [
      "The CKKS scheme is using ring dimension: 4\n"
     ]
    }
   ],
   "source": [
    "parameters = CCParamsCKKSRNS()\n",
    "parameters.SetSecurityLevel(HEStd_NotSet);\n",
    "\n",
    "parameters.SetMultiplicativeDepth(mult_depth)\n",
    "parameters.SetScalingModSize(scale_mod_size)\n",
    "parameters.SetBatchSize(batch_size)\n",
    "parameters.SetRingDim(N)\n",
    "\n",
    "cc = GenCryptoContext(parameters)\n",
    "cc.Enable(PKESchemeFeature.PKE)\n",
    "cc.Enable(PKESchemeFeature.KEYSWITCH)\n",
    "cc.Enable(PKESchemeFeature.LEVELEDSHE)\n",
    "\n",
    "print(\"The CKKS scheme is using ring dimension: \" + str(cc.GetRingDimension()))"
   ]
  },
  {
   "cell_type": "markdown",
   "metadata": {},
   "source": [
    "#### Operations"
   ]
  },
  {
   "cell_type": "code",
   "execution_count": 221,
   "metadata": {},
   "outputs": [
    {
     "name": "stdout",
     "output_type": "stream",
     "text": [
      "\n",
      "Simulated Implementation\n",
      "\n",
      "Input x1: [0.25, 0.5]\n",
      "Input x2: [5.0, 4.0]\n",
      "\n",
      "Encoded x1: [393216 -92681      1  92681]\n",
      "Encoded x2: [4718593  370728       0 -370727]\n",
      "\n",
      "Decoded x1: [0.25000121+9.53674316e-07j 0.49999879-9.53674316e-07j]\n",
      "Decoded x2: [5.00000082+6.74349576e-07j 4.00000109+6.74349576e-07j]\n"
     ]
    }
   ],
   "source": [
    "\n",
    "print(\"\\nSimulated Implementation\")\n",
    "\n",
    "print(\"\\nInput x1: \" + str(x1))\n",
    "print(\"Input x2: \" + str(x2))\n",
    "\n",
    "_ptx1 = ckks_encoder.encode(x1)\n",
    "_ptx2 = ckks_encoder.encode(x2)\n",
    "\n",
    "print(\"\\nEncoded x1: \" + str(_ptx1))\n",
    "print(\"Encoded x2: \" + str(_ptx2))\n",
    "\n",
    "_dtx1 = ckks_encoder.decode(_ptx1)\n",
    "_dtx2 = ckks_encoder.decode(_ptx2)\n",
    "\n",
    "print(\"\\nDecoded x1: \" + str(_dtx1))\n",
    "print(\"Decoded x2: \" + str(_dtx2))\n",
    "\n"
   ]
  },
  {
   "cell_type": "code",
   "execution_count": 222,
   "metadata": {},
   "outputs": [
    {
     "name": "stdout",
     "output_type": "stream",
     "text": [
      "\n",
      "Simulated Implementation\n",
      "\n",
      "Input x1: [0.25, 0.5]\n",
      "Input x2: [5.0, 4.0]\n",
      "\n",
      "Encoded x1: [393217 -92682      0  92681]\n",
      "Encoded x2: [4718592  370727       0 -370727]\n",
      "\n",
      "Decoded x1: [0.25000149-6.74349576e-07j 0.50000041-6.74349576e-07j]\n",
      "Decoded x2: [4.99999919-5.55111512e-17j 4.00000081+2.22044605e-16j]\n"
     ]
    }
   ],
   "source": [
    "\n",
    "print(\"\\nSimulated Implementation\")\n",
    "\n",
    "print(\"\\nInput x1: \" + str(x1))\n",
    "print(\"Input x2: \" + str(x2))\n",
    "\n",
    "_ptx1 = ckks_encoder.encode(x1)\n",
    "_ptx2 = ckks_encoder.encode(x2)\n",
    "\n",
    "print(\"\\nEncoded x1: \" + str(_ptx1))\n",
    "print(\"Encoded x2: \" + str(_ptx2))\n",
    "\n",
    "_dtx1 = ckks_encoder.decode(_ptx1)\n",
    "_dtx2 = ckks_encoder.decode(_ptx2)\n",
    "\n",
    "print(\"\\nDecoded x1: \" + str(_dtx1))\n",
    "print(\"Decoded x2: \" + str(_dtx2))\n"
   ]
  }
 ],
 "metadata": {
  "kernelspec": {
   "display_name": "Python 3",
   "language": "python",
   "name": "python3"
  },
  "language_info": {
   "codemirror_mode": {
    "name": "ipython",
    "version": 3
   },
   "file_extension": ".py",
   "mimetype": "text/x-python",
   "name": "python",
   "nbconvert_exporter": "python",
   "pygments_lexer": "ipython3",
   "version": "3.12.3"
  }
 },
 "nbformat": 4,
 "nbformat_minor": 2
}
