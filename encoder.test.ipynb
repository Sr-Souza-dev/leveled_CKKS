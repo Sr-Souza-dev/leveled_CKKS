{
 "cells": [
  {
   "cell_type": "markdown",
   "metadata": {},
   "source": [
    "### Imports"
   ]
  },
  {
   "cell_type": "code",
   "execution_count": 3,
   "metadata": {},
   "outputs": [],
   "source": [
    "from openfhe import *\n",
    "from src.encoder import CKKSEncoder"
   ]
  },
  {
   "cell_type": "markdown",
   "metadata": {},
   "source": [
    "### Define Vars"
   ]
  },
  {
   "cell_type": "code",
   "execution_count": 4,
   "metadata": {},
   "outputs": [],
   "source": [
    "mult_depth = 1\n",
    "scale_mod_size = 50\n",
    "N = 4\n",
    "batch_size = N//2\n",
    "\n",
    "x1 = [0.25, 0.5]\n",
    "x2 = [5.0, 4.0]"
   ]
  },
  {
   "cell_type": "markdown",
   "metadata": {},
   "source": [
    "#### Set Developed Encoder"
   ]
  },
  {
   "cell_type": "code",
   "execution_count": 5,
   "metadata": {},
   "outputs": [],
   "source": [
    "ckks_encoder = CKKSEncoder(N*2, scale=2**scale_mod_size)  "
   ]
  },
  {
   "cell_type": "markdown",
   "metadata": {},
   "source": [
    "#### Set Real Encoder"
   ]
  },
  {
   "cell_type": "code",
   "execution_count": 6,
   "metadata": {},
   "outputs": [
    {
     "name": "stdout",
     "output_type": "stream",
     "text": [
      "The CKKS scheme is using ring dimension: 4\n"
     ]
    }
   ],
   "source": [
    "parameters = CCParamsCKKSRNS()\n",
    "parameters.SetSecurityLevel(HEStd_NotSet);\n",
    "\n",
    "parameters.SetMultiplicativeDepth(mult_depth)\n",
    "parameters.SetScalingModSize(scale_mod_size)\n",
    "parameters.SetBatchSize(batch_size)\n",
    "parameters.SetRingDim(N)\n",
    "\n",
    "cc = GenCryptoContext(parameters)\n",
    "cc.Enable(PKESchemeFeature.PKE)\n",
    "cc.Enable(PKESchemeFeature.KEYSWITCH)\n",
    "cc.Enable(PKESchemeFeature.LEVELEDSHE)\n",
    "\n",
    "print(\"The CKKS scheme is using ring dimension: \" + str(cc.GetRingDimension()))"
   ]
  },
  {
   "cell_type": "markdown",
   "metadata": {},
   "source": [
    "#### Operations"
   ]
  },
  {
   "cell_type": "code",
   "execution_count": 72,
   "metadata": {},
   "outputs": [
    {
     "name": "stdout",
     "output_type": "stream",
     "text": [
      "\n",
      "Real Implementation\n",
      "Input x1: [0.25, 0.5]\n",
      "Input x2: [5.0, 4.0]\n",
      "\n",
      "Simulated Implementation\n",
      "Input x1: 4.22212465e+14 - (9.95164324e+13)·x + 1.0·x² + (9.95164324e+13)·x³\n",
      "Input x2: 5.06654958e+15 + (3.9806573e+14)·x - 1.0·x² - (3.9806573e+14)·x³\n"
     ]
    }
   ],
   "source": [
    "ptx1 = cc.MakeCKKSPackedPlaintext(x1)\n",
    "ptx2 = cc.MakeCKKSPackedPlaintext(x2)\n",
    "\n",
    "print(\"\\nReal Implementation\")\n",
    "print(\"Input x1: \" + str(ptx1.GetRealPackedValue()))\n",
    "print(\"Input x2: \" + str(ptx2.GetRealPackedValue()))\n",
    "\n",
    "_ptx1 = ckks_encoder.encode(x1)\n",
    "_ptx2 = ckks_encoder.encode(x2)\n",
    "\n",
    "print(\"\\nSimulated Implementation\")\n",
    "print(\"Input x1: \" + str(_ptx1))\n",
    "print(\"Input x2: \" + str(_ptx2))"
   ]
  }
 ],
 "metadata": {
  "kernelspec": {
   "display_name": "Python 3",
   "language": "python",
   "name": "python3"
  },
  "language_info": {
   "codemirror_mode": {
    "name": "ipython",
    "version": 3
   },
   "file_extension": ".py",
   "mimetype": "text/x-python",
   "name": "python",
   "nbconvert_exporter": "python",
   "pygments_lexer": "ipython3",
   "version": "3.12.3"
  }
 },
 "nbformat": 4,
 "nbformat_minor": 2
}
