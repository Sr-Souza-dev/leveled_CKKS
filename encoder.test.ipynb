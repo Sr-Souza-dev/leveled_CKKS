{
 "cells": [
  {
   "cell_type": "markdown",
   "metadata": {},
   "source": [
    "### Imports"
   ]
  },
  {
   "cell_type": "code",
   "execution_count": 11,
   "metadata": {},
   "outputs": [],
   "source": [
    "from openfhe import *\n",
    "from src.encoder import CKKSEncoder\n",
    "import numpy as np"
   ]
  },
  {
   "cell_type": "markdown",
   "metadata": {},
   "source": [
    "### Define Vars"
   ]
  },
  {
   "cell_type": "code",
   "execution_count": 12,
   "metadata": {},
   "outputs": [],
   "source": [
    "mult_depth = 0\n",
    "scale_mod_size = 40\n",
    "N = 4\n",
    "batch_size = N//2\n",
    "\n",
    "x1 = [0.25, 0.5]\n",
    "x2 = [5.0, 4.0]"
   ]
  },
  {
   "cell_type": "markdown",
   "metadata": {},
   "source": [
    "#### Set Developed Encoder"
   ]
  },
  {
   "cell_type": "code",
   "execution_count": 13,
   "metadata": {},
   "outputs": [],
   "source": [
    "ckks_encoder = CKKSEncoder(N, scale=2**scale_mod_size)  "
   ]
  },
  {
   "cell_type": "markdown",
   "metadata": {},
   "source": [
    "#### Set Real Encoder"
   ]
  },
  {
   "cell_type": "code",
   "execution_count": 14,
   "metadata": {},
   "outputs": [
    {
     "name": "stdout",
     "output_type": "stream",
     "text": [
      "The CKKS scheme is using ring dimension: 4\n"
     ]
    }
   ],
   "source": [
    "parameters = CCParamsCKKSRNS()\n",
    "parameters.SetSecurityLevel(HEStd_NotSet);\n",
    "\n",
    "parameters.SetMultiplicativeDepth(mult_depth)\n",
    "parameters.SetScalingModSize(scale_mod_size)\n",
    "parameters.SetBatchSize(batch_size)\n",
    "parameters.SetRingDim(N)\n",
    "\n",
    "cc = GenCryptoContext(parameters)\n",
    "cc.Enable(PKESchemeFeature.PKE)\n",
    "cc.Enable(PKESchemeFeature.KEYSWITCH)\n",
    "cc.Enable(PKESchemeFeature.LEVELEDSHE)\n",
    "\n",
    "print(\"The CKKS scheme is using ring dimension: \" + str(cc.GetRingDimension()))"
   ]
  },
  {
   "cell_type": "code",
   "execution_count": null,
   "metadata": {},
   "outputs": [
    {
     "name": "stdout",
     "output_type": "stream",
     "text": [
      "poly1:  [1 2 3 9]\n",
      "poly2:  [4 5 6]\n",
      "sum_poly:  [5 7 9 9]\n",
      "mult_poly:  [ 4 13 28 63 63 54]\n"
     ]
    }
   ],
   "source": [
    "from src.polynomial import PolynomialVec\n",
    "from numpy.polynomial import Polynomial\n",
    "\n",
    "vec1 = [1, 2, 3, 9]\n",
    "vec2 = [4, 5, 6]\n",
    "\n",
    "poly1 = PolynomialVec(vec1)\n",
    "poly2 = PolynomialVec(vec2)\n",
    "p1 = Polynomial(vec1)\n",
    "p2 = Polynomial(vec2)\n",
    "\n",
    "sum_poly = poly1 + poly2\n",
    "mult_poly = poly1 * poly2\n",
    "\n",
    "print(\"poly1: \", poly1, p1.coef)\n",
    "print(\"poly2: \", poly2, p2.coef)\n",
    "print(\"sum_poly: \", sum_poly, (p1 + p2).coef)\n",
    "print(\"mult_poly: \", mult_poly, (p1 * p2).coef)"
   ]
  },
  {
   "cell_type": "markdown",
   "metadata": {},
   "source": [
    "#### Operations"
   ]
  },
  {
   "cell_type": "code",
   "execution_count": 18,
   "metadata": {},
   "outputs": [
    {
     "name": "stdout",
     "output_type": "stream",
     "text": [
      "\n",
      "Simulated Implementation\n",
      "\n",
      "Input x1: [0.25, 0.5]\n",
      "Input x2: [5.0, 4.0]\n",
      "\n",
      "\n",
      " ----------- Check sigma Function -------------\n",
      "\n",
      "Encoded Sig1: [ 3.75000000e-01+1.56125113e-17j -1.22663473e-18+4.04789462e-17j\n",
      " -9.88792381e-17+1.25000000e-01j -1.22663473e-18-4.04789462e-17j]\n",
      "Encoded Sig2: [4.50000000e+00-6.24500451e-17j 4.90653893e-18-1.61915785e-16j\n",
      " 3.95516953e-16-5.00000000e-01j 4.90653893e-18+1.61915785e-16j]\n",
      "Encoded Sig1 + Sig2: [4.87500000e+00-4.68375339e-17j 3.67990420e-18-1.21436839e-16j\n",
      " 2.96637714e-16-3.75000000e-01j 3.67990420e-18+1.21436839e-16j]\n",
      "Encoded Sig1 * Sig2: [2.+0.j]\n",
      "\n",
      "Decoded Sig1: [0.25-8.12812816e-18j 0.5 -3.36780300e-18j 0.25-1.39252217e-18j\n",
      " 0.5 -3.16790322e-18j]\n",
      "Decoded Sig2: [5.+3.25125126e-17j 4.+1.34712120e-17j 5.+5.57008866e-18j\n",
      " 4.+1.26716129e-17j]\n",
      "Decoded Sig1 + Sig2: [5.25+2.43809964e-17j 4.5 +1.00830802e-17j 5.25+4.18773089e-18j\n",
      " 4.5 +9.47321648e-18j]\n",
      "Decoded Sig1 * Sig2: [2.+0.j 2.+0.j 2.+0.j 2.+0.j]\n",
      "---------------------------------------------\n",
      "\n",
      "\n",
      " ----------- Check Full Encoding -------------\n",
      "\n",
      "\n",
      "Encoding Process\n",
      "Input:  [0.25, 0.5]\n",
      "hz:  [0.25 0.5  0.5  0.25]\n",
      "scaled_hz:  [2.74877907e+11 5.49755814e+11 5.49755814e+11 2.74877907e+11]\n",
      "rounded_scaled_hz:  [2.74877907e+11+1.00001526j 5.49755814e+11-1.00006104j\n",
      " 5.49755814e+11+0.99983978j 2.74877907e+11-0.99980164j]\n",
      "coeff:  [ 4.12316860e+11+7.62939453e-06j -9.71840160e+10-5.39479661e-06j\n",
      "  9.99992371e-01+2.28881836e-05j  9.71840160e+10+0.00000000e+00j]\n",
      "coeff rounded:  [412316860416 -97184015999            1  97184015999]\n",
      "\n",
      "\n",
      "\n",
      "Encoding Process\n",
      "Input:  [5.0, 4.0]\n",
      "hz:  [5. 4. 4. 5.]\n",
      "scaled_hz:  [5.49755814e+12 4.39804651e+12 4.39804651e+12 5.49755814e+12]\n",
      "rounded_scaled_hz:  [5.49755814e+12-0.29296875j 4.39804651e+12+1.70733643j\n",
      " 4.39804651e+12-1.70651245j 5.49755814e+12+0.29208374j]\n",
      "coeff:  [ 4.94780232e+12-6.10351562e-05j  3.88736064e+11-1.72633492e-04j\n",
      " -1.00003052e+00-1.02698764e-15j -3.88736064e+11-1.72633492e-04j]\n",
      "coeff rounded:  [4947802324993  388736063997            -1 -388736063996]\n",
      "\n",
      "Received coeffs:  [-9223372036854775808 -9223372036854775808 -9223372036854775808\n",
      " -9223372036854775808 -9223372036854775808        -485868175360\n",
      " -9223372036854775808]\n",
      "reduced_coeffs:  [                   0 -9223371550986600448                    0\n",
      " -9223372036854775808]\n",
      "Encoded x1: [412316860416 -97184015999            1  97184015999]\n",
      "Encoded x2: [4947802324993  388736063997            -1 -388736063996]\n",
      "Encoded x1 + x2: [5360119185409  291552047998             0 -291552047997]\n",
      "Encoded x1 * x2: []\n",
      "\n",
      "Decoded x1: [0.25+9.09522457e-13j 0.5 -9.09550213e-13j]\n",
      "Decoded x2: [5.-2.66481281e-13j 4.+1.55284119e-12j]\n",
      "Decoded x1 + x2: [5.25+6.43096687e-13j 4.5 +6.43290976e-13j]\n",
      "Decoded x1 * x2: [0. 0.]\n"
     ]
    }
   ],
   "source": [
    "\n",
    "print(\"\\nSimulated Implementation\")\n",
    "\n",
    "print(\"\\nInput x1: \" + str(x1))\n",
    "print(\"Input x2: \" + str(x2))\n",
    "\n",
    "print(\"\\n\\n ----------- Check sigma Function -------------\")\n",
    "sig1 = ckks_encoder.sigma_inverse(np.concatenate((x1, x1)))\n",
    "sig2 = ckks_encoder.sigma_inverse(np.concatenate((x2, x2)))\n",
    "simSum = sig1 + sig2\n",
    "simMulti = sig1 * sig2\n",
    "\n",
    "decSig1 = ckks_encoder.sigma(sig1)\n",
    "decSig2 = ckks_encoder.sigma(sig2)\n",
    "decSimSum = ckks_encoder.sigma(simSum)\n",
    "decSimMulti = ckks_encoder.sigma(simMulti)\n",
    "\n",
    "print(\"\\nEncoded Sig1: \" + str(sig1))\n",
    "print(\"Encoded Sig2: \" + str(sig2))\n",
    "print(\"Encoded Sig1 + Sig2: \" + str(simSum))\n",
    "print(\"Encoded Sig1 * Sig2: \" + str(simMulti))\n",
    "\n",
    "print(\"\\nDecoded Sig1: \" + str(decSig1))\n",
    "print(\"Decoded Sig2: \" + str(decSig2))\n",
    "print(\"Decoded Sig1 + Sig2: \" + str(decSimSum))\n",
    "print(\"Decoded Sig1 * Sig2: \" + str(decSimMulti))\n",
    "print(\"---------------------------------------------\")\n",
    "\n",
    "\n",
    "print(\"\\n\\n ----------- Check Full Encoding -------------\")\n",
    "c1 = ckks_encoder.encode(x1)\n",
    "c2 = ckks_encoder.encode(x2)\n",
    "c_multi = (c1 * c2) % (2**10)\n",
    "c_sum = c1 + c2\n",
    "\n",
    "print(\"Encoded x1: \" + str(c1))\n",
    "print(\"Encoded x2: \" + str(c2))\n",
    "print(\"Encoded x1 + x2: \" + str(c_sum))\n",
    "print(\"Encoded x1 * x2: \" + str(c_multi))\n",
    "\n",
    "decC1 = ckks_encoder.decode(c1)\n",
    "decC2 = ckks_encoder.decode(c2)\n",
    "decSum = ckks_encoder.decode(c_sum)\n",
    "decMulti = (ckks_encoder.decode(c_multi) / ckks_encoder.scale) \n",
    "\n",
    "print(\"\\nDecoded x1: \" + str(decC1))\n",
    "print(\"Decoded x2: \" + str(decC2))\n",
    "print(\"Decoded x1 + x2: \" + str(decSum))\n",
    "print(\"Decoded x1 * x2: \" + str(decMulti))\n",
    "\n",
    "\n"
   ]
  }
 ],
 "metadata": {
  "kernelspec": {
   "display_name": "Python 3",
   "language": "python",
   "name": "python3"
  },
  "language_info": {
   "codemirror_mode": {
    "name": "ipython",
    "version": 3
   },
   "file_extension": ".py",
   "mimetype": "text/x-python",
   "name": "python",
   "nbconvert_exporter": "python",
   "pygments_lexer": "ipython3",
   "version": "3.12.3"
  }
 },
 "nbformat": 4,
 "nbformat_minor": 2
}
