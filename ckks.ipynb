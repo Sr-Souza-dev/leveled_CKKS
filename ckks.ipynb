{
 "cells": [
  {
   "cell_type": "code",
   "execution_count": 1,
   "metadata": {},
   "outputs": [],
   "source": [
    "from src.toyencoder import CKKSToyEncoder\n",
    "from src.encoder import CKKSEncoder\n",
    "from src.scheme import CkksScheme\n",
    "from src.params import LWEParams\n",
    "from src.cryptogram import Cryptogram"
   ]
  },
  {
   "cell_type": "code",
   "execution_count": null,
   "metadata": {},
   "outputs": [
    {
     "name": "stdout",
     "output_type": "stream",
     "text": [
      "Evaluation keys: [None, ([-9223372036854775808 -9223372036854775808 -9223372036854775808\n",
      " -9223372036854775808 -9223372036854775808 -9223372036854775808\n",
      " -9223372036854775808  4611686018427387904 -9223372036854775808\n",
      " -9223372036854775808 -9223372036854775808 -9223372036854775808\n",
      " -9223372036854775808 -9223372036854775808 -9223372036854775808], [ 327617607878073 -257879537294150 -551685734215778  358723286064086\n",
      " -297174219101799   61107271044064  218333889929095   81709232282159])]\n",
      "Encrypted sum: Cryptogram: \n",
      "\tc0: [13107200  7340032  5242880 11534336  3145728        0        0        0]\n",
      "\tc1: [-846978459763990 -357712977646847   41204282532527  146286487292336\n",
      "   19064664057426  409473700823282  420283165544139  910068799589601]\n",
      "\tLevel: 1\n",
      "Decrypted sum: [12  7  5 11  3  0  0  0]\n",
      "Encrypted mul: Cryptogram: \n",
      "\tc0: [ 6291456 15728640 45088768 50855936 29884416 35651584 28311552  6291456]\n",
      "\tc1: [ 0  0  0  0  0  0 -1  0]\n",
      "\tLevel: 0\n",
      "Decrypted mul: [  70 -264  400 -214 -126  331 -294  105]\n"
     ]
    }
   ],
   "source": [
    "params = LWEParams(\n",
    "    decimal_precision=20,\n",
    "    int_precision=10,\n",
    "    N=8,\n",
    "    level=1,\n",
    "    sigma=0,\n",
    ")\n",
    "\n",
    "sk, pk, eval_keys = params.generate_keys()\n",
    "CkksScheme.set_params(params)\n",
    "CkksScheme.set_cryptogram_params(eval_keys=eval_keys)\n",
    "\n",
    "# print(f\"Public key: {pk}\")\n",
    "\n",
    "# print(f\"Secret key: {sk}\")\n",
    "print(f\"Evaluation keys: {eval_keys}\")\n",
    "\n",
    "# print(CkksScheme.params)\n",
    "\n",
    "\n",
    "vec1 = [12, 6, 2, 9, 3]\n",
    "vec2 = [3, 1, 3, 2]\n",
    "\n",
    "c1 = CkksScheme.encrypt(vec1, sk)\n",
    "c2 = CkksScheme.encrypt(vec2, sk)\n",
    "\n",
    "r_sum = c1+c2\n",
    "print(f\"Encrypted sum: {r_sum}\")\n",
    "print(f\"Decrypted sum: {CkksScheme.decrypt(r_sum, sk)}\")\n",
    "\n",
    "r_mul = c1*c2\n",
    "print(f\"Encrypted mul: {r_mul}\")\n",
    "print(f\"Decrypted mul: {CkksScheme.decrypt(r_mul, sk)}\")\n",
    "\n",
    "\n"
   ]
  }
 ],
 "metadata": {
  "kernelspec": {
   "display_name": "Python 3",
   "language": "python",
   "name": "python3"
  },
  "language_info": {
   "codemirror_mode": {
    "name": "ipython",
    "version": 3
   },
   "file_extension": ".py",
   "mimetype": "text/x-python",
   "name": "python",
   "nbconvert_exporter": "python",
   "pygments_lexer": "ipython3",
   "version": "3.12.3"
  }
 },
 "nbformat": 4,
 "nbformat_minor": 2
}
