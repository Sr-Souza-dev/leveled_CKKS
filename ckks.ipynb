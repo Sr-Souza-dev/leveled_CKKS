{
 "cells": [
  {
   "cell_type": "code",
   "execution_count": 113,
   "metadata": {},
   "outputs": [],
   "source": [
    "from src.toyencoder import CKKSToyEncoder\n",
    "from src.encoder import CKKSEncoder\n",
    "from src.scheme import CkksScheme\n",
    "from src.params import LWEParams\n",
    "from src.cryptogram import Cryptogram"
   ]
  },
  {
   "cell_type": "code",
   "execution_count": null,
   "metadata": {},
   "outputs": [
    {
     "name": "stdout",
     "output_type": "stream",
     "text": [
      "a:  [  -271779   4840406   2262533 -16678717]\n",
      "e:  []\n",
      "sk:  [  1698806 -10286447  -5982085   5058026]\n"
     ]
    },
    {
     "ename": "ValueError",
     "evalue": "low is out of bounds for int64",
     "output_type": "error",
     "traceback": [
      "\u001b[0;31m---------------------------------------------------------------------------\u001b[0m",
      "\u001b[0;31mValueError\u001b[0m                                Traceback (most recent call last)",
      "Cell \u001b[0;32mIn[117], line 9\u001b[0m\n\u001b[1;32m      1\u001b[0m params \u001b[38;5;241m=\u001b[39m LWEParams(\n\u001b[1;32m      2\u001b[0m     decimal_precision\u001b[38;5;241m=\u001b[39m\u001b[38;5;241m20\u001b[39m,\n\u001b[1;32m      3\u001b[0m     int_precision\u001b[38;5;241m=\u001b[39m\u001b[38;5;241m5\u001b[39m,\n\u001b[0;32m   (...)\u001b[0m\n\u001b[1;32m      6\u001b[0m     sigma\u001b[38;5;241m=\u001b[39m\u001b[38;5;241m0.1\u001b[39m,\n\u001b[1;32m      7\u001b[0m )\n\u001b[0;32m----> 9\u001b[0m sk, pk, eval_keys \u001b[38;5;241m=\u001b[39m \u001b[43mparams\u001b[49m\u001b[38;5;241;43m.\u001b[39;49m\u001b[43mgenerate_keys\u001b[49m\u001b[43m(\u001b[49m\u001b[43m)\u001b[49m\n\u001b[1;32m     10\u001b[0m CkksScheme\u001b[38;5;241m.\u001b[39mset_params(params)\n\u001b[1;32m     11\u001b[0m CkksScheme\u001b[38;5;241m.\u001b[39mset_cryptogram_params(eval_keys\u001b[38;5;241m=\u001b[39meval_keys)\n",
      "File \u001b[0;32m~/Desktop/Unicamp/criptography/CKKS/src/params.py:74\u001b[0m, in \u001b[0;36mLWEParams.generate_keys\u001b[0;34m(self)\u001b[0m\n\u001b[1;32m     72\u001b[0m sk \u001b[38;5;241m=\u001b[39m \u001b[38;5;28mself\u001b[39m\u001b[38;5;241m.\u001b[39mgenerate_sk()\n\u001b[1;32m     73\u001b[0m pk \u001b[38;5;241m=\u001b[39m \u001b[38;5;28mself\u001b[39m\u001b[38;5;241m.\u001b[39mgenerate_pk(sk)\n\u001b[0;32m---> 74\u001b[0m eval_keys \u001b[38;5;241m=\u001b[39m \u001b[38;5;28;43mself\u001b[39;49m\u001b[38;5;241;43m.\u001b[39;49m\u001b[43mgenerate_eval_keys\u001b[49m\u001b[43m(\u001b[49m\u001b[43msk\u001b[49m\u001b[43m)\u001b[49m\n\u001b[1;32m     76\u001b[0m \u001b[38;5;28;01mreturn\u001b[39;00m sk, pk, eval_keys\n",
      "File \u001b[0;32m~/Desktop/Unicamp/criptography/CKKS/src/params.py:63\u001b[0m, in \u001b[0;36mLWEParams.generate_eval_keys\u001b[0;34m(self, sk)\u001b[0m\n\u001b[1;32m     61\u001b[0m eval_keys \u001b[38;5;241m=\u001b[39m [\u001b[38;5;28;01mNone\u001b[39;00m]\n\u001b[1;32m     62\u001b[0m \u001b[38;5;28;01mfor\u001b[39;00m i \u001b[38;5;129;01min\u001b[39;00m \u001b[38;5;28mrange\u001b[39m(\u001b[38;5;28mself\u001b[39m\u001b[38;5;241m.\u001b[39mlevel):\n\u001b[0;32m---> 63\u001b[0m     a \u001b[38;5;241m=\u001b[39m \u001b[43mLWEParams\u001b[49m\u001b[38;5;241;43m.\u001b[39;49m\u001b[43mget_random_uniform_polynomial\u001b[49m\u001b[43m(\u001b[49m\u001b[38;5;28;43mself\u001b[39;49m\u001b[38;5;241;43m.\u001b[39;49m\u001b[43mN\u001b[49m\u001b[43m,\u001b[49m\u001b[43m \u001b[49m\u001b[38;5;28;43mself\u001b[39;49m\u001b[38;5;241;43m.\u001b[39;49m\u001b[43mqs\u001b[49m\u001b[43m[\u001b[49m\u001b[43mi\u001b[49m\u001b[38;5;241;43m+\u001b[39;49m\u001b[38;5;241;43m1\u001b[39;49m\u001b[43m]\u001b[49m\u001b[43m \u001b[49m\u001b[38;5;241;43m*\u001b[39;49m\u001b[43m \u001b[49m\u001b[38;5;28;43mself\u001b[39;49m\u001b[38;5;241;43m.\u001b[39;49m\u001b[43mp_scale\u001b[49m\u001b[43m)\u001b[49m\n\u001b[1;32m     64\u001b[0m     e \u001b[38;5;241m=\u001b[39m LWEParams\u001b[38;5;241m.\u001b[39mget_random_normal_polynomial(\u001b[38;5;28mself\u001b[39m\u001b[38;5;241m.\u001b[39mN, \u001b[38;5;28mself\u001b[39m\u001b[38;5;241m.\u001b[39msigma)\n\u001b[1;32m     65\u001b[0m     evk0 \u001b[38;5;241m=\u001b[39m (\u001b[38;5;241m-\u001b[39ma \u001b[38;5;241m*\u001b[39m sk \u001b[38;5;241m+\u001b[39m e \u001b[38;5;241m+\u001b[39m (sk\u001b[38;5;241m*\u001b[39msk) \u001b[38;5;241m*\u001b[39m \u001b[38;5;28mself\u001b[39m\u001b[38;5;241m.\u001b[39mp_scale) \u001b[38;5;241m%\u001b[39m (\u001b[38;5;28mself\u001b[39m\u001b[38;5;241m.\u001b[39mqs[i\u001b[38;5;241m+\u001b[39m\u001b[38;5;241m1\u001b[39m] \u001b[38;5;241m*\u001b[39m \u001b[38;5;28mself\u001b[39m\u001b[38;5;241m.\u001b[39mp_scale)\n",
      "File \u001b[0;32m~/Desktop/Unicamp/criptography/CKKS/src/params.py:41\u001b[0m, in \u001b[0;36mLWEParams.get_random_uniform_polynomial\u001b[0;34m(N, desvio)\u001b[0m\n\u001b[1;32m     37\u001b[0m \u001b[38;5;129m@staticmethod\u001b[39m\n\u001b[1;32m     38\u001b[0m \u001b[38;5;28;01mdef\u001b[39;00m \u001b[38;5;21mget_random_uniform_polynomial\u001b[39m(N: \u001b[38;5;28mint\u001b[39m, desvio: \u001b[38;5;28mfloat\u001b[39m) \u001b[38;5;241m-\u001b[39m\u001b[38;5;241m>\u001b[39m PolynomialVec:\n\u001b[1;32m     39\u001b[0m     \u001b[38;5;66;03m# return PolynomialVec(np.random.randint(0, 1, N), dtype=np.int64)\u001b[39;00m\n\u001b[0;32m---> 41\u001b[0m     \u001b[38;5;28;01mreturn\u001b[39;00m PolynomialVec(\u001b[43mnp\u001b[49m\u001b[38;5;241;43m.\u001b[39;49m\u001b[43mrandom\u001b[49m\u001b[38;5;241;43m.\u001b[39;49m\u001b[43mrandint\u001b[49m\u001b[43m(\u001b[49m\u001b[38;5;241;43m-\u001b[39;49m\u001b[43mdesvio\u001b[49m\u001b[38;5;241;43m/\u001b[39;49m\u001b[38;5;241;43m/\u001b[39;49m\u001b[38;5;241;43m2\u001b[39;49m\u001b[43m,\u001b[49m\u001b[43m \u001b[49m\u001b[43mdesvio\u001b[49m\u001b[38;5;241;43m/\u001b[39;49m\u001b[38;5;241;43m/\u001b[39;49m\u001b[38;5;241;43m2\u001b[39;49m\u001b[43m,\u001b[49m\u001b[43m \u001b[49m\u001b[43mN\u001b[49m\u001b[43m)\u001b[49m, dtype\u001b[38;5;241m=\u001b[39mnp\u001b[38;5;241m.\u001b[39mint64)\n",
      "File \u001b[0;32mnumpy/random/mtrand.pyx:782\u001b[0m, in \u001b[0;36mnumpy.random.mtrand.RandomState.randint\u001b[0;34m()\u001b[0m\n",
      "File \u001b[0;32mnumpy/random/_bounded_integers.pyx:1330\u001b[0m, in \u001b[0;36mnumpy.random._bounded_integers._rand_int64\u001b[0;34m()\u001b[0m\n",
      "\u001b[0;31mValueError\u001b[0m: low is out of bounds for int64"
     ]
    }
   ],
   "source": [
    "params = LWEParams(\n",
    "    decimal_precision=15,\n",
    "    int_precision=5,\n",
    "    N=4,\n",
    "    level=1,\n",
    "    sigma=0.1,\n",
    ")\n",
    "\n",
    "sk, pk, eval_keys = params.generate_keys()\n",
    "CkksScheme.set_params(params)\n",
    "CkksScheme.set_cryptogram_params(eval_keys=eval_keys)\n",
    "\n",
    "# print(f\"Public key: {pk}\")\n",
    "\n",
    "# print(f\"Secret key: {sk}\")\n",
    "print(f\"Evaluation keys: {eval_keys}\")\n",
    "\n",
    "# print(CkksScheme.params)\n",
    "\n",
    "\n",
    "vec1 = [12, 6]\n",
    "vec2 = [1/2, 1]\n",
    "\n",
    "c1 = CkksScheme.encrypt(vec1, sk)\n",
    "c2 = CkksScheme.encrypt(vec2, sk)\n",
    "\n",
    "r_sum = c1+c2\n",
    "# print(f\"Encrypted sum: {r_sum}\")\n",
    "print(f\"Decrypted sum: {CkksScheme.decrypt(r_sum, sk)}\")\n",
    "\n",
    "r_mul = c1*c2\n",
    "print(f\"Encrypted mul: {r_mul}\")\n",
    "print(f\"Decrypted mul: {CkksScheme.decrypt(r_mul, sk)}\")\n",
    "\n",
    "\n"
   ]
  }
 ],
 "metadata": {
  "kernelspec": {
   "display_name": "Python 3",
   "language": "python",
   "name": "python3"
  },
  "language_info": {
   "codemirror_mode": {
    "name": "ipython",
    "version": 3
   },
   "file_extension": ".py",
   "mimetype": "text/x-python",
   "name": "python",
   "nbconvert_exporter": "python",
   "pygments_lexer": "ipython3",
   "version": "3.12.3"
  }
 },
 "nbformat": 4,
 "nbformat_minor": 2
}
